{
 "cells": [
  {
   "cell_type": "markdown",
   "metadata": {},
   "source": [
    "# 二元词组词频统计\n",
    "\n",
    "## 思路：\n",
    "\n",
    "1. 每句做成单独的组块，以标点符号作为 str 分割\n",
    "2. 把 str 切分成二元词组\n",
    "2. 统计词频"
   ]
  },
  {
   "cell_type": "markdown",
   "metadata": {},
   "source": [
    "## 1. 分割"
   ]
  },
  {
   "cell_type": "markdown",
   "metadata": {},
   "source": [
    "导入必备包"
   ]
  },
  {
   "cell_type": "code",
   "execution_count": 1,
   "metadata": {
    "collapsed": true
   },
   "outputs": [],
   "source": [
    "import re\n",
    "import zhon.hanzi as zh\n",
    "from collections import Counter"
   ]
  },
  {
   "cell_type": "code",
   "execution_count": 2,
   "metadata": {
    "collapsed": false
   },
   "outputs": [
    {
     "name": "stdout",
     "output_type": "stream",
     "text": [
      "--2017-02-19 22:17:32--  https://raw.githubusercontent.com/OpenMindClub/DeepLearningStartUp/master/happiness_seg.txt\n",
      "Resolving raw.githubusercontent.com (raw.githubusercontent.com)... 151.101.100.133\n",
      "Connecting to raw.githubusercontent.com (raw.githubusercontent.com)|151.101.100.133|:443... connected.\n",
      "HTTP request sent, awaiting response... 200 OK\n",
      "Length: 1503432 (1.4M) [text/plain]\n",
      "Saving to: ‘happiness_seg.txt.1’\n",
      "\n",
      "happiness_seg.txt.1 100%[=====================>]   1.43M  14.6KB/s   in 1m 45s \n",
      "\n",
      "2017-02-19 22:19:20 (14.0 KB/s) - ‘happiness_seg.txt.1’ saved [1503432/1503432]\n",
      "\n"
     ]
    }
   ],
   "source": [
    "!wget https://raw.githubusercontent.com/OpenMindClub/DeepLearningStartUp/master/happiness_seg.txt"
   ]
  },
  {
   "cell_type": "code",
   "execution_count": 3,
   "metadata": {
    "collapsed": true,
    "deletable": true,
    "editable": true
   },
   "outputs": [],
   "source": [
    "with open('happiness_seg.txt') as file:\n",
    "    data = file.read()"
   ]
  },
  {
   "cell_type": "code",
   "execution_count": 4,
   "metadata": {
    "collapsed": true
   },
   "outputs": [],
   "source": [
    "lst1 = re.split(r'[{}]'.format(zh.punctuation), data)  # 借助 Zhon 包，以中文标点符号切割\n",
    "lst2 = [s.strip() for s in lst1]  # 删除一些首尾的换行符"
   ]
  },
  {
   "cell_type": "markdown",
   "metadata": {},
   "source": [
    "## 2. 把 str 切分成二元词组"
   ]
  },
  {
   "cell_type": "markdown",
   "metadata": {},
   "source": [
    "原理很简单，第一层循环打印 list 中的元素，第二层循环分割出二元词组的元祖，最后组合"
   ]
  },
  {
   "cell_type": "code",
   "execution_count": 5,
   "metadata": {
    "collapsed": true,
    "deletable": true,
    "editable": true
   },
   "outputs": [],
   "source": [
    "bigrams = [b for l in lst2 for b in zip(l.split()[:-1], l.split()[1:])]"
   ]
  },
  {
   "cell_type": "code",
   "execution_count": 6,
   "metadata": {
    "collapsed": false
   },
   "outputs": [
    {
     "data": {
      "text/plain": [
       "[('幸福之路', '第一章'),\n",
       " ('什么', '使人'),\n",
       " ('使人', '不幸'),\n",
       " ('不幸', '动物'),\n",
       " ('动物', '只要'),\n",
       " ('只要', '不患'),\n",
       " ('不患', '疾病'),\n",
       " ('食物', '充足'),\n",
       " ('就', '会'),\n",
       " ('会', '快乐')]"
      ]
     },
     "execution_count": 6,
     "metadata": {},
     "output_type": "execute_result"
    }
   ],
   "source": [
    "bigrams[:10]"
   ]
  },
  {
   "cell_type": "markdown",
   "metadata": {},
   "source": [
    "## 3. 统计词频"
   ]
  },
  {
   "cell_type": "markdown",
   "metadata": {},
   "source": [
    "[1.12 序列中出现次数最多的元素 — python3-cookbook 2.0.0 文档](http://python3-cookbook.readthedocs.io/zh_CN/latest/c01/p12_determine_most_freqently_items_in_seq.html)"
   ]
  },
  {
   "cell_type": "code",
   "execution_count": 7,
   "metadata": {
    "collapsed": true
   },
   "outputs": [],
   "source": [
    "bigram_counts = Counter(bigrams)"
   ]
  },
  {
   "cell_type": "code",
   "execution_count": 8,
   "metadata": {
    "collapsed": true
   },
   "outputs": [],
   "source": [
    "top_ten = bigram_counts.most_common(10)"
   ]
  },
  {
   "cell_type": "code",
   "execution_count": 9,
   "metadata": {
    "collapsed": false
   },
   "outputs": [
    {
     "data": {
      "text/plain": [
       "[(('的', '人'), 923),\n",
       " (('他', '的'), 503),\n",
       " (('自己', '的'), 480),\n",
       " (('上', '的'), 356),\n",
       " (('他们', '的'), 335),\n",
       " (('―', '―'), 329),\n",
       " (('人', '的'), 293),\n",
       " (('的', '时候'), 261),\n",
       " (('就', '会'), 225),\n",
       " (('的', '东西'), 207)]"
      ]
     },
     "execution_count": 9,
     "metadata": {},
     "output_type": "execute_result"
    }
   ],
   "source": [
    "top_ten"
   ]
  }
 ],
 "metadata": {
  "kernelspec": {
   "display_name": "Python 3",
   "language": "python",
   "name": "python3"
  },
  "language_info": {
   "codemirror_mode": {
    "name": "ipython",
    "version": 3
   },
   "file_extension": ".py",
   "mimetype": "text/x-python",
   "name": "python",
   "nbconvert_exporter": "python",
   "pygments_lexer": "ipython3",
   "version": "3.5.2"
  }
 },
 "nbformat": 4,
 "nbformat_minor": 2
}
