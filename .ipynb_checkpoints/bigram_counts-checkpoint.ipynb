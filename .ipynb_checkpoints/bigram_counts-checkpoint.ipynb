{
 "cells": [
  {
   "cell_type": "markdown",
   "metadata": {
    "deletable": true,
    "editable": true
   },
   "source": [
    "# 二元词组词频统计\n",
    "\n",
    "## 思路：\n",
    "\n",
    "1. 每句做成单独的组块，以标点符号作为 str 分割\n",
    "2. 把 str 切分成二元词组\n",
    "2. 统计词频"
   ]
  },
  {
   "cell_type": "markdown",
   "metadata": {
    "deletable": true,
    "editable": true
   },
   "source": [
    "## 1. 分割"
   ]
  },
  {
   "cell_type": "markdown",
   "metadata": {
    "deletable": true,
    "editable": true
   },
   "source": [
    "导入必备包"
   ]
  },
  {
   "cell_type": "code",
   "execution_count": 1,
   "metadata": {
    "collapsed": true,
    "deletable": true,
    "editable": true
   },
   "outputs": [],
   "source": [
    "import re\n",
    "import zhon.hanzi as zh\n",
    "from collections import Counter"
   ]
  },
  {
   "cell_type": "code",
   "execution_count": 2,
   "metadata": {
    "collapsed": false,
    "deletable": true,
    "editable": true,
    "scrolled": true
   },
   "outputs": [
    {
     "name": "stdout",
     "output_type": "stream",
     "text": [
      "--2017-02-19 22:17:32--  https://raw.githubusercontent.com/OpenMindClub/DeepLearningStartUp/master/happiness_seg.txt\n",
      "Resolving raw.githubusercontent.com (raw.githubusercontent.com)... 151.101.100.133\n",
      "Connecting to raw.githubusercontent.com (raw.githubusercontent.com)|151.101.100.133|:443... connected.\n",
      "HTTP request sent, awaiting response... 200 OK\n",
      "Length: 1503432 (1.4M) [text/plain]\n",
      "Saving to: ‘happiness_seg.txt.1’\n",
      "\n",
      "happiness_seg.txt.1 100%[=====================>]   1.43M  14.6KB/s   in 1m 45s \n",
      "\n",
      "2017-02-19 22:19:20 (14.0 KB/s) - ‘happiness_seg.txt.1’ saved [1503432/1503432]\n",
      "\n"
     ]
    }
   ],
   "source": [
    "!wget https://raw.githubusercontent.com/OpenMindClub/DeepLearningStartUp/master/happiness_seg.txt"
   ]
  },
  {
   "cell_type": "code",
   "execution_count": 2,
   "metadata": {
    "collapsed": true,
    "deletable": true,
    "editable": true
   },
   "outputs": [],
   "source": [
    "with open('happiness_seg.txt') as file:\n",
    "    data = file.read()"
   ]
  },
  {
   "cell_type": "code",
   "execution_count": 3,
   "metadata": {
    "collapsed": false,
    "deletable": true,
    "editable": true
   },
   "outputs": [],
   "source": [
    "lst1 = re.split(r'[{}]'.format(zh.punctuation), data)  # 借助 Zhon 包，以中文标点符号切割\n",
    "lst2 = [s.strip() for s in lst1]  # 删除一些首尾的换行符"
   ]
  },
  {
   "cell_type": "markdown",
   "metadata": {
    "deletable": true,
    "editable": true
   },
   "source": [
    "## 2. 把 str 切分成二元词组"
   ]
  },
  {
   "cell_type": "markdown",
   "metadata": {
    "deletable": true,
    "editable": true
   },
   "source": [
    "原理很简单，第一层循环打印 list 中的元素，第二层循环分割出二元词组的元祖，最后组合"
   ]
  },
  {
   "cell_type": "code",
   "execution_count": 4,
   "metadata": {
    "collapsed": true,
    "deletable": true,
    "editable": true
   },
   "outputs": [],
   "source": [
    "bigrams = [b for l in lst2 for b in zip(l.split()[:-1], l.split()[1:])]"
   ]
  },
  {
   "cell_type": "code",
   "execution_count": 5,
   "metadata": {
    "collapsed": false,
    "deletable": true,
    "editable": true
   },
   "outputs": [],
   "source": [
    "cleared_bigrams = [(a, b) for x, (a, b) in enumerate(bigrams) if len(a) > 1 and len(b) > 1]  # 把「的」之类的单个词去除"
   ]
  },
  {
   "cell_type": "markdown",
   "metadata": {
    "deletable": true,
    "editable": true
   },
   "source": [
    "## 3. 统计词频"
   ]
  },
  {
   "cell_type": "markdown",
   "metadata": {
    "deletable": true,
    "editable": true
   },
   "source": [
    "[1.12 序列中出现次数最多的元素 — python3-cookbook 2.0.0 文档](http://python3-cookbook.readthedocs.io/zh_CN/latest/c01/p12_determine_most_freqently_items_in_seq.html)"
   ]
  },
  {
   "cell_type": "code",
   "execution_count": 6,
   "metadata": {
    "collapsed": true,
    "deletable": true,
    "editable": true
   },
   "outputs": [],
   "source": [
    "bigram_counts = Counter(cleared_bigrams)"
   ]
  },
  {
   "cell_type": "code",
   "execution_count": 7,
   "metadata": {
    "collapsed": true,
    "deletable": true,
    "editable": true
   },
   "outputs": [],
   "source": [
    "top_ten = bigram_counts.most_common(10)"
   ]
  },
  {
   "cell_type": "code",
   "execution_count": 8,
   "metadata": {
    "collapsed": false,
    "deletable": true,
    "editable": true
   },
   "outputs": [
    {
     "data": {
      "text/plain": [
       "[(('这种', '情况'), 77),\n",
       " (('没有', '什么'), 70),\n",
       " (('这个', '问题'), 57),\n",
       " (('因为', '他们'), 55),\n",
       " (('如果', '我们'), 50),\n",
       " (('所有', '这些'), 47),\n",
       " (('这种', '观点'), 46),\n",
       " (('这个', '世界'), 40),\n",
       " (('他们', '自己'), 38),\n",
       " (('我们', '可以'), 37)]"
      ]
     },
     "execution_count": 8,
     "metadata": {},
     "output_type": "execute_result"
    }
   ],
   "source": [
    "top_ten"
   ]
  }
 ],
 "metadata": {
  "kernelspec": {
   "display_name": "Python 3",
   "language": "python",
   "name": "python3"
  },
  "language_info": {
   "codemirror_mode": {
    "name": "ipython",
    "version": 3
   },
   "file_extension": ".py",
   "mimetype": "text/x-python",
   "name": "python",
   "nbconvert_exporter": "python",
   "pygments_lexer": "ipython3",
   "version": "3.5.2"
  }
 },
 "nbformat": 4,
 "nbformat_minor": 2
}
